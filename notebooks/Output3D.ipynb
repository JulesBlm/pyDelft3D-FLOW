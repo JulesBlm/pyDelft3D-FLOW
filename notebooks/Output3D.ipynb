{
 "cells": [
  {
   "cell_type": "markdown",
   "metadata": {},
   "source": [
    "# 3D plotting\n",
    "\n",
    "[See the output notebook for an introduction on opening NetCDF files with xarray](Output.ipynb)\n",
    "\n",
    "We can visualize the output in 3D using PyVista. \n",
    "\n",
    "> PyVista is a helper module for the Visualization Toolkit (VTK) that takes a different approach on interfacing with VTK through NumPy and direct array access. This package provides a Pythonic, well-documented interface exposing VTK’s powerful visualization backend to facilitate rapid prototyping, analysis, and visual integration of spatially referenced datasets.\n",
    "\n",
    "### Why PyVista?\n",
    "* Geoscience focused\n",
    "* [Excellent docs](http://docs.pyvista.org/)\n",
    "* [Easy installation and use](https://docs.pyvista.org/getting-started/installation.html)"
   ]
  },
  {
   "cell_type": "code",
   "execution_count": 5,
   "metadata": {},
   "outputs": [],
   "source": [
    "import sys\n",
    "sys.path.append('../')"
   ]
  },
  {
   "cell_type": "code",
   "execution_count": 11,
   "metadata": {},
   "outputs": [],
   "source": [
    "import pyvista as pv\n",
    "import numpy as np\n",
    "import xarray as xr\n",
    "from pyd3d.utils import ncFilePicker, easyTimeFormat\n",
    "from pyd3d.output.fixgrid import fixMeshGrid\n",
    "from pyd3d.output.processNetCDF import addDepth, makeVelocity # addVectorSum\n",
    "from pyd3d.output.plotPyVista import makeBottomSurface, makeStructuredGridDepth\n",
    "from cmocean.cm import deep, deep_r\n",
    "from IPython.display import Markdown as md\n",
    "from os import path"
   ]
  },
  {
   "cell_type": "code",
   "execution_count": 7,
   "metadata": {},
   "outputs": [],
   "source": [
    "# pv.set_plot_theme(\"document\") # for white background"
   ]
  },
  {
   "cell_type": "code",
   "execution_count": 21,
   "metadata": {},
   "outputs": [
    {
     "data": {
      "application/vnd.jupyter.widget-view+json": {
       "model_id": "77f97ec8db5e4725a195d182f9f9fad1",
       "version_major": 2,
       "version_minor": 0
      },
      "text/plain": [
       "Select(description='NetCDF file:', layout=Layout(height='120px', width='100%'), options=('/Users/julesblom/pyD…"
      ]
     },
     "metadata": {},
     "output_type": "display_data"
    }
   ],
   "source": [
    "# TODO why doensn't a relative path work?\n",
    "results_folder = '/Users/julesblom/pyDelft3D-FLOW/example_datasets'\n",
    "\n",
    "nc_filename = ncFilePicker(results_folder)\n",
    "nc_filename"
   ]
  },
  {
   "cell_type": "code",
   "execution_count": 15,
   "metadata": {},
   "outputs": [
    {
     "data": {
      "text/plain": [
       "'/Users/julesblom/pyDelft3D-FLOW/example_datasets/Slope085_Run01_compressed.nc'"
      ]
     },
     "execution_count": 15,
     "metadata": {},
     "output_type": "execute_result"
    }
   ],
   "source": [
    "trim = xr.open_dataset(nc_filename.value) "
   ]
  },
  {
   "cell_type": "code",
   "execution_count": null,
   "metadata": {},
   "outputs": [],
   "source": []
  }
 ],
 "metadata": {
  "kernelspec": {
   "display_name": "Python 3",
   "language": "python",
   "name": "python3"
  },
  "language_info": {
   "codemirror_mode": {
    "name": "ipython",
    "version": 3
   },
   "file_extension": ".py",
   "mimetype": "text/x-python",
   "name": "python",
   "nbconvert_exporter": "python",
   "pygments_lexer": "ipython3",
   "version": "3.7.7"
  }
 },
 "nbformat": 4,
 "nbformat_minor": 4
}

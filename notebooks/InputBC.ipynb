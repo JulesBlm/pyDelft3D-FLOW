{
 "cells": [
  {
   "cell_type": "markdown",
   "metadata": {},
   "source": [
    "# 3D Discharge Profiel Boundary Conditions\n",
    "\n",
    "Boundary condition files have the most insane file format of all the insane Delft3D-FLOW file formats! Therefore, making input boundary conditions warrant a separate notebook."
   ]
  },
  {
   "cell_type": "code",
   "execution_count": 2,
   "metadata": {},
   "outputs": [],
   "source": [
    "import sys\n",
    "sys.path.append('../')\n",
    "from pyd3d.utils import formatSci"
   ]
  },
  {
   "cell_type": "code",
   "execution_count": 3,
   "metadata": {},
   "outputs": [],
   "source": [
    "# from pyd3d.input.Discharge3Dprofile"
   ]
  },
  {
   "cell_type": "code",
   "execution_count": 40,
   "metadata": {},
   "outputs": [],
   "source": [
    "import os\n",
    "import numpy as np\n",
    "from pyd3d.utils import formatSci\n",
    "from pyd3d.input.mdf import Mdf\n",
    "from pyd3d.input.sedmor import Sed\n",
    "from IPython.display import Markdown as md\n",
    "import pandas as pd\n",
    "from decimal import Decimal"
   ]
  },
  {
   "cell_type": "code",
   "execution_count": 41,
   "metadata": {},
   "outputs": [],
   "source": [
    "folderpath = \"/Users/julesblom/pyDelft3D-FLOW/example_input/Run01\"\n",
    "model = D3DModel(folderpath)\n",
    "filenames = model.filenames"
   ]
  },
  {
   "cell_type": "markdown",
   "metadata": {},
   "source": [
    "## Read some values from .mdf"
   ]
  },
  {
   "cell_type": "code",
   "execution_count": 43,
   "metadata": {},
   "outputs": [
    {
     "name": "stdout",
     "output_type": "stream",
     "text": [
      "Readding /Users/julesblom/pyDelft3D-FLOW/example_input/Run01/36km_200m_W60Channel.mdf\n"
     ]
    },
    {
     "data": {
      "text/plain": [
       "0.3"
      ]
     },
     "execution_count": 43,
     "metadata": {},
     "output_type": "execute_result"
    }
   ],
   "source": [
    "mdf = Mdf(filenames['mdf'])\n",
    "timestep = float(mdf.data['Dt'][0])\n",
    "timestep"
   ]
  },
  {
   "cell_type": "code",
   "execution_count": 69,
   "metadata": {},
   "outputs": [],
   "source": [
    "sigma_layer_percentages = mdf.data['Thick']\n",
    "nr_sigma_layers = int(mdf.data['MNKmax'][2])"
   ]
  },
  {
   "cell_type": "markdown",
   "metadata": {},
   "source": [
    "## Get some stuff from .sed"
   ]
  },
  {
   "cell_type": "code",
   "execution_count": 46,
   "metadata": {},
   "outputs": [
    {
     "data": {
      "text/plain": [
       "['Sediment vfsand', 'Sediment msilt']"
      ]
     },
     "execution_count": 46,
     "metadata": {},
     "output_type": "execute_result"
    }
   ],
   "source": [
    "sediments = Sed(filenames['sed'])\n",
    "sediments.sediment_names"
   ]
  },
  {
   "cell_type": "code",
   "execution_count": 48,
   "metadata": {},
   "outputs": [
    {
     "data": {
      "text/plain": [
       "2650.0"
      ]
     },
     "execution_count": 48,
     "metadata": {},
     "output_type": "execute_result"
    }
   ],
   "source": [
    "density_sed = float(sediments.data['Sediment0']['RhoSol']) # [kg/m3]\n",
    "density_sed"
   ]
  },
  {
   "cell_type": "markdown",
   "metadata": {},
   "source": [
    "## User defined values"
   ]
  },
  {
   "cell_type": "code",
   "execution_count": 77,
   "metadata": {},
   "outputs": [
    {
     "data": {
      "text/plain": [
       "array([21.54, 18.  , 16.5 , 15.  , 13.5 , 12.  , 11.4 , 10.8 , 10.2 ,\n",
       "        9.6 ,  9.  ,  8.7 ,  8.4 ,  8.1 ,  7.8 ,  7.5 ,  7.2 ,  6.9 ,\n",
       "        6.6 ,  6.3 ,  6.  ,  5.7 ,  5.4 ,  5.1 ,  4.8 ,  4.5 ,  4.2 ,\n",
       "        3.9 ,  3.6 ,  3.3 ,  3.  ,  2.85,  2.7 ,  2.55,  2.4 ,  2.25,\n",
       "        2.1 ,  1.95,  1.8 ,  1.65,  1.5 ,  1.35,  1.2 ,  1.05,  0.9 ,\n",
       "        0.81,  0.69,  0.6 ,  0.45,  0.39,  0.36,  0.33,  0.3 ,  0.3 ,\n",
       "        0.27,  0.27,  0.27,  0.27,  0.27,  0.24,  0.24,  0.24,  0.24,\n",
       "        0.21,  0.21,  0.21,  0.18,  0.18,  0.18,  0.18,  0.18,  0.15,\n",
       "        0.15,  0.15,  0.15,  0.12,  0.12,  0.12,  0.09,  0.09])"
      ]
     },
     "execution_count": 77,
     "metadata": {},
     "output_type": "execute_result"
    }
   ],
   "source": [
    "# should be read from depth ideally\n",
    "init_depth = 300   # [m] at bc location # ureg.meter \n",
    "\n",
    "sigma_layer_fractions = np.divide(sigma_layer_percentages, 100)\n",
    "\n",
    "np.multiply(sigma_layer_fractions, init_depth)"
   ]
  },
  {
   "cell_type": "code",
   "execution_count": 49,
   "metadata": {},
   "outputs": [],
   "source": [
    "discharge_total = 4500 # [m3/s]\n",
    "\n",
    "sand_dens = 19.75 # kg/m3\n",
    "silt_dens = 19.75 # kg/m3\n",
    "\n",
    "nr_discharge_layers = 53 \n",
    "\n",
    "sediments = [\n",
    "    {\n",
    "        'name': 'sand',\n",
    "        \"mass_conc\": sand_mass_conc\n",
    "    },\n",
    "    {\n",
    "        'name': 'silt',\n",
    "        \"mass_conc\": silt_mass_conc\n",
    "    }]\n",
    "\n",
    "start_discharge_time = 9 # [min]\n",
    "discharge_duration = 39 # [min]"
   ]
  },
  {
   "cell_type": "code",
   "execution_count": 50,
   "metadata": {},
   "outputs": [],
   "source": [
    "input_dict = dict(timestep = timestep,\n",
    "                  nr_sigma_layers=nr_sigma_layers,\n",
    "                  start_discharge_time=start_discharge_time,\n",
    "                  discharge_duration=discharge_duration,\n",
    "                  nr_discharge_layers=nr_discharge_layers\n",
    "                 )"
   ]
  },
  {
   "cell_type": "code",
   "execution_count": 53,
   "metadata": {},
   "outputs": [],
   "source": [
    "def isTimestepMultiple(value):\n",
    "    return value % timestep < 1e-9"
   ]
  },
  {
   "cell_type": "code",
   "execution_count": 65,
   "metadata": {},
   "outputs": [
    {
     "data": {
      "text/plain": [
       "array([   41.78272981,    50.        ,    54.54545455,    60.        ,\n",
       "          66.66666667,    75.        ,    78.94736842,    83.33333333,\n",
       "          88.23529412,    93.75      ,   100.        ,   103.44827586,\n",
       "         107.14285714,   111.11111111,   115.38461538,   120.        ,\n",
       "         125.        ,   130.43478261,   136.36363636,   142.85714286,\n",
       "         150.        ,   157.89473684,   166.66666667,   176.47058824,\n",
       "         187.5       ,   200.        ,   214.28571429,   230.76923077,\n",
       "         250.        ,   272.72727273,   300.        ,   315.78947368,\n",
       "         333.33333333,   352.94117647,   375.        ,   400.        ,\n",
       "         428.57142857,   461.53846154,   500.        ,   545.45454545,\n",
       "         600.        ,   666.66666667,   750.        ,   857.14285714,\n",
       "        1000.        ,  1111.11111111,  1304.34782609,  1500.        ,\n",
       "        2000.        ,  2307.69230769,  2500.        ,  2727.27272727,\n",
       "        3000.        ,  3000.        ,  3333.33333333,  3333.33333333,\n",
       "        3333.33333333,  3333.33333333,  3333.33333333,  3750.        ,\n",
       "        3750.        ,  3750.        ,  3750.        ,  4285.71428571,\n",
       "        4285.71428571,  4285.71428571,  5000.        ,  5000.        ,\n",
       "        5000.        ,  5000.        ,  5000.        ,  6000.        ,\n",
       "        6000.        ,  6000.        ,  6000.        ,  7500.        ,\n",
       "        7500.        ,  7500.        , 10000.        , 10000.        ])"
      ]
     },
     "execution_count": 65,
     "metadata": {},
     "output_type": "execute_result"
    }
   ],
   "source": [
    "# inflow_height = \n"
   ]
  },
  {
   "cell_type": "code",
   "execution_count": 67,
   "metadata": {},
   "outputs": [
    {
     "ename": "NameError",
     "evalue": "name 'discharge_layer_sigma_percentages' is not defined",
     "output_type": "error",
     "traceback": [
      "\u001b[0;31m---------------------------------------------------------------------------\u001b[0m",
      "\u001b[0;31mNameError\u001b[0m                                 Traceback (most recent call last)",
      "\u001b[0;32m<ipython-input-67-928a5c301d95>\u001b[0m in \u001b[0;36m<module>\u001b[0;34m\u001b[0m\n\u001b[0;32m----> 1\u001b[0;31m \u001b[0mnp\u001b[0m\u001b[0;34m.\u001b[0m\u001b[0mdivide\u001b[0m\u001b[0;34m(\u001b[0m\u001b[0mdischarge_layer_sigma_percentages\u001b[0m\u001b[0;34m,\u001b[0m \u001b[0;36m100\u001b[0m\u001b[0;34m)\u001b[0m\u001b[0;34m\u001b[0m\u001b[0;34m\u001b[0m\u001b[0m\n\u001b[0m",
      "\u001b[0;31mNameError\u001b[0m: name 'discharge_layer_sigma_percentages' is not defined"
     ]
    }
   ],
   "source": [
    "np.divide(discharge_layer_sigma_percentages, 100)"
   ]
  },
  {
   "cell_type": "code",
   "execution_count": 37,
   "metadata": {},
   "outputs": [
    {
     "data": {
      "text/plain": [
       "True"
      ]
     },
     "execution_count": 37,
     "metadata": {},
     "output_type": "execute_result"
    }
   ],
   "source": [
    "isTimestepMultiple(start_discharge_time)"
   ]
  },
  {
   "cell_type": "code",
   "execution_count": 39,
   "metadata": {},
   "outputs": [
    {
     "data": {
      "text/plain": [
       "True"
      ]
     },
     "execution_count": 39,
     "metadata": {},
     "output_type": "execute_result"
    }
   ],
   "source": [
    "isTimestepMultiple(discharge_duration)"
   ]
  },
  {
   "cell_type": "code",
   "execution_count": 51,
   "metadata": {},
   "outputs": [],
   "source": [
    "def allZeroesRecords(nr_sigma_layers=80):\n",
    "    all_zeros_line = '  '.join('0.0000000e+000' for i in range(nr_sigma_layers))\n",
    "    line_all_zero = f\"{all_zeros_line}  {all_zeros_line}\" # left + right\n",
    "    \n",
    "    return line_all_zero"
   ]
  },
  {
   "cell_type": "code",
   "execution_count": 52,
   "metadata": {},
   "outputs": [],
   "source": [
    "def makeBcTimes(timestep=0.3, start_discharge_time=15, discharge_duration=45):\n",
    "    # Discharge is linearly interpolated between timesteps\n",
    "    # Therefore, we need to add one timestep before the start and one timestep after in which discharges are zero\n",
    "    end_discharge_time = start_discharge_time + discharge_duration # [min]\n",
    "    pre_start_discharge_time = start_discharge_time - timestep  # [min]\n",
    "    post_end_discharge_time = end_discharge_time + timestep  # [min]    \n",
    "\n",
    "    times = [0, \n",
    "             pre_start_discharge_time, \n",
    "             start_discharge_time,\n",
    "             end_discharge_time, \n",
    "             post_end_discharge_time, \n",
    "             end_time\n",
    "            ]\n",
    "    \n",
    "    formatted_times = [formatSci(time) for time in times]\n",
    "    \n",
    "    return formatted_times"
   ]
  },
  {
   "cell_type": "code",
   "execution_count": 56,
   "metadata": {},
   "outputs": [],
   "source": [
    "def calcDischargePerCell(discharge_total=None, sigma_layer_percentages=[], nr_zero_discharge_layers=None):\n",
    "    if not discharge_total:\n",
    "        raise Exception(\"No discharge_total given!\")\n",
    "    if not nr_zero_discharge_layers:\n",
    "        raise Exception(\"No nr_zero_discharge_layers given!\")\n",
    "    \n",
    "    discharge_layer_sigma_percentages = sigma_layer_percentages[nr_zero_discharge_layers:] # select only the discharge parts\n",
    "    discharge_layers_sigma_percentage_sum = np.array(discharge_layer_sigma_percentages).sum() # sum it\n",
    "\n",
    "    print(f\"Now divide {discharge_total} $m^3/s$ discharge among the bottom {discharge_layers_sigma_percentage_sum}% height of sigma layers\")\n",
    "    discharge_records_list = discharge_layer_sigma_percentages/discharge_layers_sigma_percentage_sum * discharge_total\n",
    "    \n",
    "    return discharge_records_list"
   ]
  },
  {
   "cell_type": "code",
   "execution_count": 57,
   "metadata": {},
   "outputs": [],
   "source": [
    "def makeDischargeRecords(discharge_bc_list=None, nr_sigma_layers=80, nr_discharge_layers = 53):\n",
    "    '''\n",
    "    Pass a list of float values for discharge layer \n",
    "    Returns a formatted string of records\n",
    "    '''\n",
    "    if not len(discharge_bc_list):\n",
    "        raise Exception(\"discharge_records should be be a list\")\n",
    "    \n",
    "    nr_zero_discharge_layers = nr_sigma_layers - nr_discharge_layers  # move this to class self props\n",
    "\n",
    "    discharge_records = '  '.join(formatSci(discharge) for discharge in discharge_bc_list)\n",
    "    \n",
    "    print(f\"The first {nr_zero_discharge_layers} 'cells' are all zeroes, then the next {nr_discharge_layers} layers contain the discharge values\")\n",
    "    \n",
    "    zero_records_discharge_layer = '  '.join('0.0000000e+000' for i in range(nr_zero_discharge_layers))\n",
    "    # first the cells where discharge is zero, then the cells that have values for discharge \n",
    "    discharge_line = f\"{zero_records_discharge_layer}  {discharge_records}\"\n",
    "\n",
    "    # Each line has two discharge 'points' so repeat it twice\n",
    "    complete_line_records = f'{discharge_line}  {discharge_line}' # A + B\n",
    "\n",
    "    return complete_line_records"
   ]
  },
  {
   "cell_type": "code",
   "execution_count": 58,
   "metadata": {},
   "outputs": [],
   "source": [
    "line_all_zero = allZeroesRecords(nr_sigma_layers)"
   ]
  },
  {
   "cell_type": "code",
   "execution_count": 59,
   "metadata": {},
   "outputs": [],
   "source": [
    "def generateVerticalBC(filename='untitled', timestep = 0.3, nr_sigma_layers=80, start_discharge_time=0,\n",
    "                       discharge_duration=0, nr_discharge_layers=53):\n",
    "    if discharge_duration == 0:\n",
    "        raise Exception(\"discharge_duration cannot be 0\")\n",
    "    \n",
    "    if not Decimal(discharge_duration) % Decimal(timestep) < 10e-9:\n",
    "        raise Exception(\"Discharge duration is not a multiple of timestep\")\n",
    "\n",
    "    times = makeBcTimes(timestep, start_discharge_time, discharge_duration)    \n",
    "    line_all_zero = allZeroesRecords(nr_sigma_layers)\n",
    "        \n",
    "    # --- Write Concentration file (.bcc) ---\n",
    "    # time + A + B\n",
    "    bcc_filename = filename + \".bccrecords\"\n",
    "    with open(bcc_filename, 'w') as bcc_file:\n",
    "        # why not use a f multiline string here f'''{ line below} '''\n",
    "        # what if more than 6 records? this approach is inflexible\n",
    "        # for each discharge write these six lines\n",
    "            # for time in times:\n",
    "            \n",
    "        for sed in sediments:\n",
    "            bcc_file.write(sed['name'] + '\\n')\n",
    "            conc_discharge_list = [sed['mass_conc'] for i in range(nr_discharge_layers)]\n",
    "\n",
    "            line_with_conc_records = makeDischargeRecords(conc_discharge_list)\n",
    "\n",
    "            for i, time in enumerate(times):\n",
    "                if i == 2 or i == 3:\n",
    "                    write_line =  f\" {time}  {line_with_conc_records}\\n\"\n",
    "                    bcc_file.write(write_line)\n",
    "                else:\n",
    "                    write_line = f\" {time}  {line_all_zero}\\n\"\n",
    "                    bcc_file.write(write_line)\n",
    "        \n",
    "    # discharges inflow of water (different per vertical gridcell)\n",
    "    nr_zero_discharge_layer = nr_sigma_layers - nr_discharge_layers\n",
    "    discharges_list = calcDischargePerCell(discharge_total, sigma_layer_percentages, nr_zero_discharge_layer)\n",
    "    line_with_discharge_records = makeDischargeRecords(discharges_list, nr_sigma_layers, nr_discharge_layers)        \n",
    "    # Format: time + A + B\n",
    "    bct_filename = filename + \".bctrecords\"\n",
    "    with open(bct_filename, 'w') as bct_file:\n",
    "        linesToWrite = [\n",
    "            f\" {times[0]}  {line_all_zero}\\n\",\n",
    "            f\" {times[1]}  {line_all_zero}\\n\",\n",
    "            f\" {times[2]}  {line_with_discharge_records}\\n\",\n",
    "            f\" {times[3]}  {line_with_discharge_records}\\n\",\n",
    "            f\" {times[4]}  {line_all_zero}\\n\",\n",
    "            f\" {times[5]}  {line_all_zero}\\n\"\n",
    "        ]\n",
    "        bct_file.writelines(line for line in linesToWrite)"
   ]
  },
  {
   "cell_type": "markdown",
   "metadata": {},
   "source": [
    "# And now, magic!"
   ]
  },
  {
   "cell_type": "code",
   "execution_count": null,
   "metadata": {},
   "outputs": [],
   "source": [
    "generateVerticalBC('test', **input_dict)"
   ]
  }
 ],
 "metadata": {
  "kernelspec": {
   "display_name": "Python 3",
   "language": "python",
   "name": "python3"
  },
  "language_info": {
   "codemirror_mode": {
    "name": "ipython",
    "version": 3
   },
   "file_extension": ".py",
   "mimetype": "text/x-python",
   "name": "python",
   "nbconvert_exporter": "python",
   "pygments_lexer": "ipython3",
   "version": "3.7.7"
  }
 },
 "nbformat": 4,
 "nbformat_minor": 4
}

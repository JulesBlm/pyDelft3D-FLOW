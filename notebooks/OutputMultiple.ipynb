{
 "cells": [
  {
   "cell_type": "markdown",
   "metadata": {},
   "source": [
    "# Open multiple output files simultaneously\n",
    "\n",
    "xarray and Dask allow you to open multiple NetCDF files at once and join them by time \n",
    "[Datashader](https://datashader.org/) enable plotting of large datasets like this\n"
   ]
  },
  {
   "cell_type": "code",
   "execution_count": 4,
   "metadata": {},
   "outputs": [
    {
     "ename": "ModuleNotFoundError",
     "evalue": "No module named 'pyd3d'",
     "output_type": "error",
     "traceback": [
      "\u001b[0;31m---------------------------------------------------------------------------\u001b[0m",
      "\u001b[0;31mModuleNotFoundError\u001b[0m                       Traceback (most recent call last)",
      "\u001b[0;32m<ipython-input-4-31d4bac22a7c>\u001b[0m in \u001b[0;36m<module>\u001b[0;34m\u001b[0m\n\u001b[1;32m      5\u001b[0m \u001b[0;32mimport\u001b[0m \u001b[0mxarray\u001b[0m \u001b[0;32mas\u001b[0m \u001b[0mxr\u001b[0m\u001b[0;34m\u001b[0m\u001b[0;34m\u001b[0m\u001b[0m\n\u001b[1;32m      6\u001b[0m \u001b[0;31m# from pyd3d.output.fixgrid import fixMeshGrid\u001b[0m\u001b[0;34m\u001b[0m\u001b[0;34m\u001b[0m\u001b[0;34m\u001b[0m\u001b[0m\n\u001b[0;32m----> 7\u001b[0;31m \u001b[0;32mfrom\u001b[0m \u001b[0mpyd3d\u001b[0m\u001b[0;34m.\u001b[0m\u001b[0moutput\u001b[0m\u001b[0;34m.\u001b[0m\u001b[0mprocessNetcdf\u001b[0m \u001b[0;32mimport\u001b[0m \u001b[0mmakeVelocity\u001b[0m\u001b[0;34m,\u001b[0m \u001b[0maddDepth\u001b[0m\u001b[0;34m,\u001b[0m \u001b[0maddUnderlayerCoords\u001b[0m\u001b[0;34m,\u001b[0m \u001b[0maddVectorSum\u001b[0m\u001b[0;34m,\u001b[0m \u001b[0mmakeVectorSumsSediments\u001b[0m\u001b[0;34m\u001b[0m\u001b[0;34m\u001b[0m\u001b[0m\n\u001b[0m\u001b[1;32m      8\u001b[0m \u001b[0;32mfrom\u001b[0m \u001b[0mpyd3d\u001b[0m\u001b[0;34m.\u001b[0m\u001b[0mutils\u001b[0m \u001b[0;32mimport\u001b[0m \u001b[0mquickDF\u001b[0m\u001b[0;34m,\u001b[0m \u001b[0mmultiNcFilePicker\u001b[0m\u001b[0;34m,\u001b[0m \u001b[0mfolderPicker\u001b[0m\u001b[0;34m,\u001b[0m \u001b[0mncFilePicker\u001b[0m\u001b[0;34m\u001b[0m\u001b[0;34m\u001b[0m\u001b[0m\n\u001b[1;32m      9\u001b[0m \u001b[0;32mfrom\u001b[0m \u001b[0mIPython\u001b[0m\u001b[0;34m.\u001b[0m\u001b[0mdisplay\u001b[0m \u001b[0;32mimport\u001b[0m \u001b[0mMarkdown\u001b[0m \u001b[0;32mas\u001b[0m \u001b[0mmd\u001b[0m\u001b[0;34m\u001b[0m\u001b[0;34m\u001b[0m\u001b[0m\n",
      "\u001b[0;31mModuleNotFoundError\u001b[0m: No module named 'pyd3d'"
     ]
    }
   ],
   "source": [
    "import xarray as xr\n",
    "import datashader as ds\n",
    "import hvplot.xarray\n",
    "import numpy as np\n",
    "import xarray as xr\n",
    "# from pyd3d.output.fixgrid import fixMeshGrid\n",
    "from pyd3d.output.processNetcdf import makeVelocity, addDepth, addUnderlayerCoords, addVectorSum, makeVectorSumsSediments\n",
    "from pyd3d.utils import quickDF, multiNcFilePicker, folderPicker, ncFilePicker\n",
    "from IPython.display import Markdown as md\n",
    "import holoviews as hv"
   ]
  },
  {
   "cell_type": "code",
   "execution_count": null,
   "metadata": {},
   "outputs": [],
   "source": []
  },
  {
   "cell_type": "markdown",
   "metadata": {},
   "source": [
    "# Write to video (.mp4) file"
   ]
  },
  {
   "cell_type": "code",
   "execution_count": null,
   "metadata": {},
   "outputs": [],
   "source": [
    "import warnings\n",
    "from holoviews import opts\n",
    "from holoviews.operation.datashader import datashade, rasterize\n",
    "from holoviews.operation import decimate\n",
    "renderer = hv.renderer('matplotlib')\n",
    "hv.output(backend=\"matplotlib\")\n",
    "warnings.simplefilter('ignore')\n",
    "hv.extension('matplotlib')"
   ]
  }
 ],
 "metadata": {
  "kernelspec": {
   "display_name": "Python 3",
   "language": "python",
   "name": "python3"
  },
  "language_info": {
   "codemirror_mode": {
    "name": "ipython",
    "version": 3
   },
   "file_extension": ".py",
   "mimetype": "text/x-python",
   "name": "python",
   "nbconvert_exporter": "python",
   "pygments_lexer": "ipython3",
   "version": "3.7.7"
  }
 },
 "nbformat": 4,
 "nbformat_minor": 4
}

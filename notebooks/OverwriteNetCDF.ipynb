{
 "cells": [
  {
   "cell_type": "markdown",
   "metadata": {},
   "source": [
    "# Write 'clean' netCDF output\n",
    "Remove some junk"
   ]
  },
  {
   "cell_type": "code",
   "execution_count": 1,
   "metadata": {},
   "outputs": [
    {
     "ename": "ModuleNotFoundError",
     "evalue": "No module named 'pyd3d'",
     "output_type": "error",
     "traceback": [
      "\u001b[0;31m---------------------------------------------------------------------------\u001b[0m",
      "\u001b[0;31mModuleNotFoundError\u001b[0m                       Traceback (most recent call last)",
      "\u001b[0;32m<ipython-input-1-9d7b73afad9f>\u001b[0m in \u001b[0;36m<module>\u001b[0;34m\u001b[0m\n\u001b[0;32m----> 1\u001b[0;31m \u001b[0;32mfrom\u001b[0m \u001b[0mpyd3d\u001b[0m\u001b[0;34m.\u001b[0m\u001b[0mprocessNetCDF\u001b[0m \u001b[0;32mimport\u001b[0m \u001b[0mprocessNetCDF\u001b[0m\u001b[0;34m\u001b[0m\u001b[0;34m\u001b[0m\u001b[0m\n\u001b[0m\u001b[1;32m      2\u001b[0m \u001b[0;32mfrom\u001b[0m \u001b[0mpyd3d\u001b[0m\u001b[0;34m.\u001b[0m\u001b[0mutils\u001b[0m \u001b[0;32mimport\u001b[0m \u001b[0mncFilePicker\u001b[0m\u001b[0;34m,\u001b[0m \u001b[0mquickDF\u001b[0m\u001b[0;34m\u001b[0m\u001b[0;34m\u001b[0m\u001b[0m\n\u001b[1;32m      3\u001b[0m \u001b[0;32mimport\u001b[0m \u001b[0mipywidgets\u001b[0m \u001b[0;32mas\u001b[0m \u001b[0mwidgets\u001b[0m\u001b[0;34m\u001b[0m\u001b[0;34m\u001b[0m\u001b[0m\n\u001b[1;32m      4\u001b[0m \u001b[0;32mimport\u001b[0m \u001b[0mxarray\u001b[0m \u001b[0;32mas\u001b[0m \u001b[0mxr\u001b[0m\u001b[0;34m\u001b[0m\u001b[0;34m\u001b[0m\u001b[0m\n\u001b[1;32m      5\u001b[0m \u001b[0;32mfrom\u001b[0m \u001b[0mglob\u001b[0m \u001b[0;32mimport\u001b[0m \u001b[0mglob\u001b[0m\u001b[0;34m\u001b[0m\u001b[0;34m\u001b[0m\u001b[0m\n",
      "\u001b[0;31mModuleNotFoundError\u001b[0m: No module named 'pyd3d'"
     ]
    }
   ],
   "source": [
    "from pyd3d.processNetCDF import processNetCDF\n",
    "from pyd3d.utils import ncFilePicker, quickDF\n",
    "import ipywidgets as widgets\n",
    "import xarray as xr\n",
    "from glob import glob"
   ]
  },
  {
   "cell_type": "code",
   "execution_count": null,
   "metadata": {},
   "outputs": [],
   "source": [
    "%load_ext autoreload"
   ]
  },
  {
   "cell_type": "code",
   "execution_count": null,
   "metadata": {},
   "outputs": [],
   "source": [
    "%reload_ext autoreload"
   ]
  },
  {
   "cell_type": "code",
   "execution_count": 25,
   "metadata": {},
   "outputs": [],
   "source": [
    "folder = './example_datasets/Slope085_Run05_compressed.nc/\n",
    "\n",
    "nc_filename = ncFilePicker(folder)"
   ]
  },
  {
   "cell_type": "code",
   "execution_count": 26,
   "metadata": {},
   "outputs": [
    {
     "data": {
      "application/vnd.jupyter.widget-view+json": {
       "model_id": "568646c98b4e4976922d97034d76ca64",
       "version_major": 2,
       "version_minor": 0
      },
      "text/plain": [
       "Select(description='NetCDF file:', layout=Layout(height='120px', width='100%'), options=('/Volumes/Seagate Exp…"
      ]
     },
     "metadata": {},
     "output_type": "display_data"
    }
   ],
   "source": [
    "nc_filename"
   ]
  },
  {
   "cell_type": "code",
   "execution_count": 44,
   "metadata": {},
   "outputs": [
    {
     "data": {
      "text/plain": [
       "'Slope100_Run05'"
      ]
     },
     "execution_count": 44,
     "metadata": {},
     "output_type": "execute_result"
    }
   ],
   "source": [
    "write_name = nc_filename.value[-17:-3]\n",
    "write_name"
   ]
  },
  {
   "cell_type": "code",
   "execution_count": 45,
   "metadata": {},
   "outputs": [],
   "source": [
    "trim = xr.open_dataset(nc_filename.value)"
   ]
  },
  {
   "cell_type": "markdown",
   "metadata": {},
   "source": [
    "### Drop junk and write to netCDF-4 file"
   ]
  },
  {
   "cell_type": "code",
   "execution_count": 46,
   "metadata": {},
   "outputs": [],
   "source": [
    "# %time clean_nc_filename = processNetCDF(nc_filename.value, mystery_flag=True)\n",
    "dataset_clean = trim.drop_vars(['ALFAS', 'KCU', 'KCV', 'KCS', 'GSQS', 'PPARTITION', 'KFU', 'KFV', 'DICWW', 'VICWW', # TAUKSI, 'TAUETA',\n",
    "                 'TAUMAX', 'UMNLDF', 'VMNLDF', 'SBUUA', 'SBVVA', 'SSUUA', 'SSVVA', 'MORFAC', 'MFTAVG', 'MORAVG', 'SSUU', 'SSVV',# 'WPHY'\n",
    "                 'DG', 'MORFT', 'DM', 'VICUV', 'DPS0', 'S1', 'DPU0', 'DPV0', 'MSED', 'W', 'WS', 'RICH', 'RTUR1'], errors='ignore')"
   ]
  },
  {
   "cell_type": "code",
   "execution_count": 47,
   "metadata": {},
   "outputs": [
    {
     "data": {
      "text/plain": [
       "Data variables:\n",
       "    XCOR       (MC, NC) float64 ...\n",
       "    YCOR       (MC, NC) float64 ...\n",
       "    DP0        (M, N) float32 ...\n",
       "    NAMCON     (LSTSCI) |S20 ...\n",
       "    NAMTUR     (LTUR) |S20 ...\n",
       "    RHOCONST   float32 ...\n",
       "    GRAVITY    float32 ...\n",
       "    grid       int32 ...\n",
       "    U1         (time, KMAXOUT_RESTR, MC, N) float32 ...\n",
       "    V1         (time, KMAXOUT_RESTR, M, NC) float32 ...\n",
       "    WPHY       (time, KMAXOUT_RESTR, M, N) float32 ...\n",
       "    R1         (time, LSTSCI, KMAXOUT_RESTR, M, N) float32 ...\n",
       "    TAUKSI     (time, MC, N) float32 ...\n",
       "    TAUETA     (time, M, NC) float32 ...\n",
       "    RHO        (time, KMAXOUT_RESTR, M, N) float32 ...\n",
       "    SBUU       (time, LSEDTOT, MC, N) float32 ...\n",
       "    SBVV       (time, LSEDTOT, M, NC) float32 ...\n",
       "    DPS        (time, M, N) float32 ...\n",
       "    LYRFRAC    (time, LSEDTOT, nlyr, M, N) float32 ...\n",
       "    DP_BEDLYR  (time, nlyrp1, M, N) float32 ...\n",
       "    DMSEDCUM   (time, LSEDTOT, M, N) float32 ..."
      ]
     },
     "execution_count": 47,
     "metadata": {},
     "output_type": "execute_result"
    }
   ],
   "source": [
    "dataset_clean.data_vars"
   ]
  },
  {
   "cell_type": "code",
   "execution_count": 48,
   "metadata": {},
   "outputs": [],
   "source": [
    "dataset_clean.load().isel(time=slice(0,None,2)).to_netcdf(f'{write_name}.nc', mode='w', engine='netcdf4', format='NETCDF4')"
   ]
  },
  {
   "cell_type": "code",
   "execution_count": null,
   "metadata": {},
   "outputs": [],
   "source": []
  }
 ],
 "metadata": {
  "kernelspec": {
   "display_name": "Python 3",
   "language": "python",
   "name": "python3"
  },
  "language_info": {
   "codemirror_mode": {
    "name": "ipython",
    "version": 3
   },
   "file_extension": ".py",
   "mimetype": "text/x-python",
   "name": "python",
   "nbconvert_exporter": "python",
   "pygments_lexer": "ipython3",
   "version": "3.7.7"
  }
 },
 "nbformat": 4,
 "nbformat_minor": 4
}
